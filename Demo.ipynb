{
 "cells": [
  {
   "cell_type": "markdown",
   "metadata": {},
   "source": [
    "# KWAK Demo  \n",
    "\n",
    "In this tutorial, we demonstrate how to use the KWAK package. \n",
    "The example below is for the Kaluza-Klein model found in the examples folder. Other data sets with simple signals (bumps and dips) are also available in the example folder.  \n",
    "\n",
    "Example data files:  \n",
    "**Wide.csv** : Wide bump added to the hypothesis.   \n",
    "**Narrow.csv** : Narrow bump added to the hypothesis.   \n",
    "**BumpDip.csv** : Bump followed by a dip added to the hypothesis.  \n",
    "**Oscillations.csv** : Series of small oscillations added to the hypothesis.  "
   ]
  },
  {
   "cell_type": "code",
   "execution_count": 1,
   "metadata": {},
   "outputs": [],
   "source": [
    "# -- Dependencies --\n",
    "import sys\n",
    "import numpy as np \n",
    "import pandas as pd \n",
    "import kwak "
   ]
  },
  {
   "cell_type": "code",
   "execution_count": 2,
   "metadata": {},
   "outputs": [
    {
     "name": "stdout",
     "output_type": "stream",
     "text": [
      "File    :  KK.csv\n",
      "Columns :  ['M(gamma gamma) [GeV]', 'Nevents', 'Sigma', 'Hypothesis', 'Generating Function']\n",
      "No. of bins : 128\n"
     ]
    }
   ],
   "source": [
    "# -- Load the data file -- \n",
    "Examples_dir = \"./examples/\"\n",
    "File_name = \"KK.csv\" \n",
    "File_dframe = pd.read_csv(Examples_dir+File_name)\n",
    "\n",
    "# -- Data Frame of the example files -- \n",
    "print (\"File    : \", File_name)\n",
    "print (\"Columns : \", [col for col in File_dframe.columns])\n",
    "print (\"No. of bins :\", len(File_dframe))"
   ]
  },
  {
   "cell_type": "markdown",
   "metadata": {},
   "source": [
    "The example files have the column format  \n",
    "**M(gamma gamma) [GeV]** : Binned diphoton invariant mass [GeV].  \n",
    "**Nevents** : Number of events per bin.  \n",
    "**Sigma** : Standard deviation per bin.  \n",
    "**Hypothesis** : Hypothesis assumed for the given example.  \n",
    "**Generating Function** : Function used to create the artificial signal on top of the hypothesis.  \n",
    "\n",
    "To use the Nsets method, only \"Nevents\" and \"Hypothesis\" are needed. "
   ]
  },
  {
   "cell_type": "code",
   "execution_count": 3,
   "metadata": {},
   "outputs": [],
   "source": [
    "# -- Optional -- \n",
    "# Output the result of the kwak analysis to a new directory \n",
    "Output_dir = \"Demo_KK\""
   ]
  },
  {
   "cell_type": "markdown",
   "metadata": {},
   "source": [
    "### Data Preprocessing  "
   ]
  },
  {
   "cell_type": "code",
   "execution_count": 4,
   "metadata": {},
   "outputs": [],
   "source": [
    "Nevents = np.asarray(File_dframe['Nevents'].values, dtype=int) # The number of events must be integer-type\n",
    "Hypothesis = np.asarray(File_dframe['Hypothesis'].values, dtype=float)\n",
    "assert(len(Nevents)==len(Hypothesis)), \"Nevents and Hypothesis arrays must have the same length.\"\n",
    "\n",
    "# Optional:\n",
    "# Separate the \"Signal\" region (first 64 bins) from the \"overflow\" region (last 64 bins).\n",
    "Nbins = 64 \n",
    "data_signal = Nevents[:Nbins]\n",
    "data_overflow = np.sum(Nevents[Nbins:])\n",
    "hypo_signal = Hypothesis[:Nbins]\n",
    "hypo_overflow = np.sum(Hypothesis[Nbins:])\n",
    "\n",
    "# Optional (for plotting):\n",
    "# Get the \"Generating Function\" for the Nsigma Scalograms.\n",
    "GenFunc = np.asarray(File_dframe['Generating Function'].values, dtype=float)\n",
    "genfunc_signal = GenFunc[:Nbins]\n",
    "genfunc_overflow = np.sum(GenFunc[Nbins:])"
   ]
  },
  {
   "cell_type": "markdown",
   "metadata": {},
   "source": [
    "### Nsets Method  \n",
    "\n",
    "This method samples the hypothesis from a Poisson distribution 'nsets' number of times.  \n",
    "The discrete Haar wavelet coefficients of the sampled nset hypotheses are then calculated and used to estimate the probability of obtaining the coefficients equal to those of the data. \n",
    "\n",
    "If extrapolate is true, a new hypothesis is extrapolated from the nset hypotheses.\n",
    "When the extrapolate option is true, nsets must be at least 300,000. "
   ]
  },
  {
   "cell_type": "code",
   "execution_count": null,
   "metadata": {},
   "outputs": [],
   "source": [
    "# -- Call the nsets method --\n",
    "# extr_sets is an instance of the nsets method. If outputdir is not none, a directory will be created \n",
    "# with the data from the atributes of this class in csv files.\n",
    "extr_nsets = kwak.nsets(data_signal, hypo_signal, nsets=3*10**5, seed=123,\n",
    "                        extrapolate=True, outputdir=Output_dir)"
   ]
  },
  {
   "cell_type": "code",
   "execution_count": null,
   "metadata": {},
   "outputs": [],
   "source": [
    "# Save the atributes of extr_nsets\n",
    "Level = extr_nsets.Level\n",
    "Histogram = extr_nsets.Histogram\n",
    "Nsigma = extr_nsets.Nsigma\n",
    "PlessX = extr_nsets.PlessX \n",
    "PeqX = extr_nsets.PeqX \n",
    "NsigmaFixedRes = extr_nsets.NsigmaFixedRes\n",
    "\n",
    "# If extrapolate is true\n",
    "Nsigma_fit = extr_nsets.Nsigma_fit\n",
    "PlessX_fit = extr_nsets.PlessX_fit\n",
    "PeqX_fit = extr_nsets.PeqX_fit\n",
    "NsigmaFixedRes_fit = extr_nsets.NsigmaFixedRes_fit"
   ]
  },
  {
   "cell_type": "markdown",
   "metadata": {},
   "source": [
    "## Plotting"
   ]
  },
  {
   "cell_type": "markdown",
   "metadata": {},
   "source": [
    "### Wavelet Scalograms  \n",
    "Wavelet scalograms display the discrete wavelet coefficients of a data array as bar plots. \n",
    "The different wavelet scalograms and their options are shown below."
   ]
  },
  {
   "cell_type": "code",
   "execution_count": null,
   "metadata": {},
   "outputs": [],
   "source": [
    "kwak.wScalogram(data=data_signal, firsttrend=True,\n",
    "                logscale=True, filled=False, \n",
    "                title=\"Wavelet Scalogram\",\n",
    "                xlabel=\"Xlabel\",\n",
    "                outputfile=None)"
   ]
  },
  {
   "cell_type": "code",
   "execution_count": null,
   "metadata": {},
   "outputs": [],
   "source": [
    "kwak.wScalogram_nsig(data=data_signal, nsigma=Nsigma_fit, \n",
    "                     firsttrend=True, logscale=True, \n",
    "                     title=\"Wavelet Scalogram (Nsigma color-code)\",\n",
    "                     xlabel=\"Xlabel\",\n",
    "                     outputfile=None)"
   ]
  },
  {
   "cell_type": "markdown",
   "metadata": {},
   "source": [
    "### Nsigma Scalograms  \n",
    "Nsigma scalograms display the nsigma values of the corresponding discrete wavelet coefficients of a data array as bar plots. \n",
    "The different wavelet scalograms and their options are shown below."
   ]
  },
  {
   "cell_type": "code",
   "execution_count": null,
   "metadata": {},
   "outputs": [],
   "source": [
    "r_percent = 10\n",
    "kwak.nsigScalogram(data_signal, hypo_signal, Nsigma_fit, genfunc_signal,\n",
    "                   nsigma_percent=r_percent*0.01,\n",
    "                   nsigma_colorcode=False, \n",
    "                   title=\"Nsigma per Level (with RecSignal)\",\n",
    "                   xlabel=\"Xlabel\",\n",
    "                   outputfile=None)"
   ]
  },
  {
   "cell_type": "code",
   "execution_count": null,
   "metadata": {},
   "outputs": [],
   "source": [
    "kwak.nsigFixedRes(data_signal, hypo_signal, Nsigma_fit, NsigmaFixedRes_fit,\n",
    "                  nsigma_colorcode=False, \n",
    "                  title=\"Nsigma per Level (with FRGS)\",\n",
    "                  xlabel=\"Xlabel\",\n",
    "                  outputfile=None)"
   ]
  },
  {
   "cell_type": "code",
   "execution_count": null,
   "metadata": {},
   "outputs": [],
   "source": []
  },
  {
   "cell_type": "code",
   "execution_count": null,
   "metadata": {},
   "outputs": [],
   "source": []
  }
 ],
 "metadata": {
  "kernelspec": {
   "display_name": "Python 3",
   "language": "python",
   "name": "python3"
  },
  "language_info": {
   "codemirror_mode": {
    "name": "ipython",
    "version": 3
   },
   "file_extension": ".py",
   "mimetype": "text/x-python",
   "name": "python",
   "nbconvert_exporter": "python",
   "pygments_lexer": "ipython3",
   "version": "3.7.3"
  }
 },
 "nbformat": 4,
 "nbformat_minor": 2
}
